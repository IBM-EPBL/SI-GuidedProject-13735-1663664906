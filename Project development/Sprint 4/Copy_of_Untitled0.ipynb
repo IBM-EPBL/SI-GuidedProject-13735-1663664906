{
  "nbformat": 4,
  "nbformat_minor": 0,
  "metadata": {
    "colab": {
      "provenance": []
    },
    "kernelspec": {
      "name": "python3",
      "display_name": "Python 3"
    },
    "language_info": {
      "name": "python"
    }
  },
  "cells": [
    {
      "cell_type": "code",
      "source": [
        "from google.colab import drive\n",
        "drive.mount('/content/drive')"
      ],
      "metadata": {
        "colab": {
          "base_uri": "https://localhost:8080/"
        },
        "id": "5T1erN4ngJWN",
        "outputId": "a925ccd6-fec1-442a-d92d-b7e8a1f276aa"
      },
      "execution_count": 1,
      "outputs": [
        {
          "output_type": "stream",
          "name": "stdout",
          "text": [
            "Mounted at /content/drive\n"
          ]
        }
      ]
    },
    {
      "cell_type": "code",
      "execution_count": 2,
      "metadata": {
        "id": "hszTaFDwLzwj"
      },
      "outputs": [],
      "source": [
        "import keras\n",
        "from keras.preprocessing.image import ImageDataGenerator\n",
        "from keras.preprocessing import image\n",
        "import pandas as pd"
      ]
    },
    {
      "cell_type": "code",
      "source": [
        "train_datagen = ImageDataGenerator(\n",
        "    rotation_range=180,\n",
        "    rescale=1./255,\n",
        "    shear_range=0.2,\n",
        "    zoom_range=0.2,\n",
        "    horizontal_flip=True,\n",
        "\n",
        ")\n",
        "\n",
        "test_datagen=ImageDataGenerator(rescale=1./255)\n"
      ],
      "metadata": {
        "id": "Mg7KJVoAL_uJ"
      },
      "execution_count": 3,
      "outputs": []
    },
    {
      "cell_type": "code",
      "source": [
        "train_generator = train_datagen.flow_from_directory('/content/drive/MyDrive/CNN/dataset/Dataset/train_set',\n",
        "    target_size=(128, 128),\n",
        "    batch_size=32,\n",
        "    class_mode='binary'\n",
        ")\n",
        "\n",
        "test_generator = test_datagen.flow_from_directory('/content/drive/MyDrive/CNN/dataset/Dataset/test_set',\n",
        "    target_size=(128, 128),\n",
        "    batch_size=32,\n",
        "    class_mode='binary'\n",
        ")"
      ],
      "metadata": {
        "colab": {
          "base_uri": "https://localhost:8080/"
        },
        "id": "5Hc91ijBMDSn",
        "outputId": "4def6c1b-7a75-454a-cb4f-44fa12f2e0ba"
      },
      "execution_count": 4,
      "outputs": [
        {
          "output_type": "stream",
          "name": "stdout",
          "text": [
            "Found 333 images belonging to 2 classes.\n",
            "Found 121 images belonging to 2 classes.\n"
          ]
        }
      ]
    },
    {
      "cell_type": "code",
      "source": [
        "from keras.models import Sequential\n",
        "from keras.layers import Convolution2D, MaxPooling2D\n",
        "from keras.layers import Flatten, Dense\n",
        "from keras.layers import Activation\n",
        "import warnings \n",
        "warnings.filterwarnings('ignore')\n"
      ],
      "metadata": {
        "id": "fHcgAka9MFlA"
      },
      "execution_count": 5,
      "outputs": []
    },
    {
      "cell_type": "code",
      "source": [
        "model=Sequential()"
      ],
      "metadata": {
        "id": "QEUSC7K8MI-p"
      },
      "execution_count": 6,
      "outputs": []
    },
    {
      "cell_type": "code",
      "source": [
        "model.add(Convolution2D(32,(3,3),input_shape=(128,128,3),activation='relu'))"
      ],
      "metadata": {
        "id": "5cnzi8bmMLWA"
      },
      "execution_count": 7,
      "outputs": []
    },
    {
      "cell_type": "code",
      "source": [
        "model.add(MaxPooling2D(pool_size=(2,2)))"
      ],
      "metadata": {
        "id": "yP-gHWxEMNLA"
      },
      "execution_count": 8,
      "outputs": []
    },
    {
      "cell_type": "code",
      "source": [
        "model.add(Flatten())"
      ],
      "metadata": {
        "id": "F71t_QF2MPPv"
      },
      "execution_count": 9,
      "outputs": []
    },
    {
      "cell_type": "code",
      "source": [
        "model.add(Dense(150))\n",
        "model.add(Activation('relu'))"
      ],
      "metadata": {
        "id": "JGfwgeLQMRFI"
      },
      "execution_count": 10,
      "outputs": []
    },
    {
      "cell_type": "code",
      "source": [
        "model.add(Dense(1))\n",
        "model.add(Activation('sigmoid'))\n",
        "          "
      ],
      "metadata": {
        "id": "UARAkb6aMTGZ"
      },
      "execution_count": 11,
      "outputs": []
    },
    {
      "cell_type": "code",
      "source": [
        "model.compile(loss='binary_crossentropy',\n",
        "             optimizer=\"adam\",\n",
        "             metrics=[\"accuracy\"])"
      ],
      "metadata": {
        "id": "tqWkcak4MU70"
      },
      "execution_count": 12,
      "outputs": []
    },
    {
      "cell_type": "code",
      "source": [
        "model.fit_generator(train_generator,epochs=10,validation_data=test_generator,validation_steps=4)"
      ],
      "metadata": {
        "id": "xdJyOM2QMm3H",
        "colab": {
          "base_uri": "https://localhost:8080/"
        },
        "outputId": "f310c6f8-3c55-40af-a90e-92beff36b041"
      },
      "execution_count": null,
      "outputs": [
        {
          "output_type": "stream",
          "name": "stdout",
          "text": [
            "Epoch 1/10\n",
            "11/11 [==============================] - 25s 2s/step - loss: 4.8287 - accuracy: 0.5285 - val_loss: 0.3941 - val_accuracy: 0.8678\n",
            "Epoch 2/10\n",
            "11/11 [==============================] - 23s 2s/step - loss: 1.0293 - accuracy: 0.7477 - val_loss: 0.4820 - val_accuracy: 0.8512\n",
            "Epoch 3/10\n",
            "11/11 [==============================] - 23s 2s/step - loss: 0.3819 - accuracy: 0.8138 - val_loss: 0.1583 - val_accuracy: 0.9421\n",
            "Epoch 4/10\n",
            "11/11 [==============================] - 23s 2s/step - loss: 0.2586 - accuracy: 0.8799 - val_loss: 0.0989 - val_accuracy: 0.9504\n",
            "Epoch 5/10\n",
            "11/11 [==============================] - 21s 2s/step - loss: 0.2046 - accuracy: 0.9129 - val_loss: 0.0852 - val_accuracy: 0.9669\n",
            "Epoch 6/10\n",
            "11/11 [==============================] - 21s 2s/step - loss: 0.1804 - accuracy: 0.9339 - val_loss: 0.0676 - val_accuracy: 0.9587\n",
            "Epoch 7/10\n",
            "11/11 [==============================] - 22s 2s/step - loss: 0.1826 - accuracy: 0.9129 - val_loss: 0.0741 - val_accuracy: 0.9669\n",
            "Epoch 8/10\n",
            "11/11 [==============================] - 21s 2s/step - loss: 0.1786 - accuracy: 0.9219 - val_loss: 0.0649 - val_accuracy: 0.9752\n",
            "Epoch 9/10\n",
            "11/11 [==============================] - 25s 2s/step - loss: 0.1723 - accuracy: 0.9189 - val_loss: 0.0449 - val_accuracy: 0.9835\n",
            "Epoch 10/10\n",
            "11/11 [==============================] - 21s 2s/step - loss: 0.1697 - accuracy: 0.9249 - val_loss: 0.0487 - val_accuracy: 0.9752\n"
          ]
        },
        {
          "output_type": "execute_result",
          "data": {
            "text/plain": [
              "<keras.callbacks.History at 0x7f71becada10>"
            ]
          },
          "metadata": {},
          "execution_count": 76
        }
      ]
    },
    {
      "cell_type": "code",
      "source": [
        "model.save(\"forest1.h5\")"
      ],
      "metadata": {
        "id": "tI0DyfuBNAWA"
      },
      "execution_count": 13,
      "outputs": []
    },
    {
      "cell_type": "code",
      "source": [
        "from keras.models import load_model\n",
        "from keras.preprocessing import image\n",
        "from tensorflow.keras.preprocessing import image\n",
        "import numpy as np \n",
        "import cv2\n"
      ],
      "metadata": {
        "id": "vGVB8ACNNBLf"
      },
      "execution_count": 14,
      "outputs": []
    },
    {
      "cell_type": "code",
      "source": [
        "#Testing the model\n",
        "from keras.models import load_model\n",
        "import cv2\n",
        "import numpy as np\n",
        "from PIL import Image\n",
        "from keras.utils import img_to_array\n",
        "model = load_model('/content/forest1.h5')\n",
        "def prediction(img_path):\n",
        "    i = cv2.imread(img_path)\n",
        "    i = cv2.cvtColor(i, cv2.COLOR_BGR2RGB)\n",
        "    img = Image.open(img_path)\n",
        "    img = img.resize((128,128))\n",
        "    x = img_to_array(img)\n",
        "    x = np.expand_dims(x,axis=0)\n",
        "    pred = model.predict(x)\n",
        "    print(\"%s\"%(\"FOREST FIRE DETECTED! SMS SENT!\" if pred==[[1.]] else \"NO FOREST FIRE DETECTED\"))"
      ],
      "metadata": {
        "id": "34r8UsrmAcbr"
      },
      "execution_count": 15,
      "outputs": []
    },
    {
      "cell_type": "code",
      "source": [
        "prediction('/content/drive/MyDrive/CNN/dataset/Dataset/test_set/with fire/Bandipur_fires_2019.jpg')"
      ],
      "metadata": {
        "colab": {
          "base_uri": "https://localhost:8080/"
        },
        "id": "gblkR2hXArz7",
        "outputId": "1e4bd947-e5a4-455c-d67e-933ce76cc1b4"
      },
      "execution_count": 16,
      "outputs": [
        {
          "output_type": "stream",
          "name": "stdout",
          "text": [
            "1/1 [==============================] - 0s 412ms/step\n",
            "NO FOREST FIRE DETECTED\n"
          ]
        }
      ]
    },
    {
      "cell_type": "code",
      "source": [
        "prediction('/content/drive/MyDrive/CNN/dataset/Dataset/test_set/forest/091318_LH_forest_loss_main_FREE.jpg')"
      ],
      "metadata": {
        "colab": {
          "base_uri": "https://localhost:8080/"
        },
        "id": "akJr3WYAAr70",
        "outputId": "709dfe54-93f3-4052-8111-c7f524eed358"
      },
      "execution_count": 17,
      "outputs": [
        {
          "output_type": "stream",
          "name": "stdout",
          "text": [
            "1/1 [==============================] - 0s 36ms/step\n",
            "NO FOREST FIRE DETECTED\n"
          ]
        }
      ]
    },
    {
      "cell_type": "code",
      "source": [
        "model=load_model('/content/drive/MyDrive/CNN/forest1.h5')"
      ],
      "metadata": {
        "id": "PegP29dTNBrY"
      },
      "execution_count": null,
      "outputs": []
    },
    {
      "cell_type": "code",
      "source": [
        "img=image.load_img('/content/drive/MyDrive/CNN/dataset/Dataset/train_set/with fire/with fire (1).png')\n",
        "x=image.img_to_array(img)\n",
        "res = cv2.resize(x, dsize=(128,128 ), interpolation=cv2.INTER_CUBIC)\n",
        "x=np.expand_dims(res,axis=0)"
      ],
      "metadata": {
        "id": "LtGamg_vNBtz"
      },
      "execution_count": null,
      "outputs": []
    },
    {
      "cell_type": "code",
      "source": [
        "pred=model.predict(x)"
      ],
      "metadata": {
        "id": "5aOHmbU8NBwy",
        "colab": {
          "base_uri": "https://localhost:8080/"
        },
        "outputId": "98a0de19-7f9a-4cb4-f178-0af709ddbfa1"
      },
      "execution_count": null,
      "outputs": [
        {
          "output_type": "stream",
          "name": "stdout",
          "text": [
            "1/1 [==============================] - 0s 79ms/step\n"
          ]
        }
      ]
    },
    {
      "cell_type": "code",
      "source": [
        "pred"
      ],
      "metadata": {
        "id": "koa8ZrRJNKca",
        "colab": {
          "base_uri": "https://localhost:8080/"
        },
        "outputId": "c4756921-3267-44c0-a75b-76159f5bca12"
      },
      "execution_count": null,
      "outputs": [
        {
          "output_type": "execute_result",
          "data": {
            "text/plain": [
              "array([[0.00058011]], dtype=float32)"
            ]
          },
          "metadata": {},
          "execution_count": 82
        }
      ]
    },
    {
      "cell_type": "code",
      "source": [
        "!tar -zcvf forest_fire_detection.tgz forest1.h5"
      ],
      "metadata": {
        "colab": {
          "base_uri": "https://localhost:8080/"
        },
        "id": "gGO1XgbJBveL",
        "outputId": "984636eb-9b1f-4beb-e0e4-0f110e0952d7"
      },
      "execution_count": 18,
      "outputs": [
        {
          "output_type": "stream",
          "name": "stdout",
          "text": [
            "forest1.h5\n"
          ]
        }
      ]
    },
    {
      "cell_type": "code",
      "source": [
        "!pip install watson-machine-learning-client"
      ],
      "metadata": {
        "colab": {
          "base_uri": "https://localhost:8080/",
          "height": 1000
        },
        "id": "Yp2j9dM-B0ca",
        "outputId": "36d9f3d0-4780-4bf8-a038-23abf62c5930"
      },
      "execution_count": 19,
      "outputs": [
        {
          "output_type": "stream",
          "name": "stdout",
          "text": [
            "Looking in indexes: https://pypi.org/simple, https://us-python.pkg.dev/colab-wheels/public/simple/\n",
            "Collecting watson-machine-learning-client\n",
            "  Downloading watson_machine_learning_client-1.0.391-py3-none-any.whl (538 kB)\n",
            "\u001b[K     |████████████████████████████████| 538 kB 5.3 MB/s \n",
            "\u001b[?25hCollecting ibm-cos-sdk\n",
            "  Downloading ibm-cos-sdk-2.12.0.tar.gz (55 kB)\n",
            "\u001b[K     |████████████████████████████████| 55 kB 3.3 MB/s \n",
            "\u001b[?25hRequirement already satisfied: certifi in /usr/local/lib/python3.7/dist-packages (from watson-machine-learning-client) (2022.9.24)\n",
            "Requirement already satisfied: requests in /usr/local/lib/python3.7/dist-packages (from watson-machine-learning-client) (2.23.0)\n",
            "Requirement already satisfied: urllib3 in /usr/local/lib/python3.7/dist-packages (from watson-machine-learning-client) (1.24.3)\n",
            "Requirement already satisfied: pandas in /usr/local/lib/python3.7/dist-packages (from watson-machine-learning-client) (1.3.5)\n",
            "Requirement already satisfied: tqdm in /usr/local/lib/python3.7/dist-packages (from watson-machine-learning-client) (4.64.1)\n",
            "Requirement already satisfied: tabulate in /usr/local/lib/python3.7/dist-packages (from watson-machine-learning-client) (0.8.10)\n",
            "Collecting lomond\n",
            "  Downloading lomond-0.3.3-py2.py3-none-any.whl (35 kB)\n",
            "Collecting boto3\n",
            "  Downloading boto3-1.26.12-py3-none-any.whl (132 kB)\n",
            "\u001b[K     |████████████████████████████████| 132 kB 33.1 MB/s \n",
            "\u001b[?25hCollecting s3transfer<0.7.0,>=0.6.0\n",
            "  Downloading s3transfer-0.6.0-py3-none-any.whl (79 kB)\n",
            "\u001b[K     |████████████████████████████████| 79 kB 6.6 MB/s \n",
            "\u001b[?25hCollecting botocore<1.30.0,>=1.29.12\n",
            "  Downloading botocore-1.29.12-py3-none-any.whl (9.9 MB)\n",
            "\u001b[K     |████████████████████████████████| 9.9 MB 37.0 MB/s \n",
            "\u001b[?25hCollecting jmespath<2.0.0,>=0.7.1\n",
            "  Downloading jmespath-1.0.1-py3-none-any.whl (20 kB)\n",
            "Collecting urllib3\n",
            "  Downloading urllib3-1.26.12-py2.py3-none-any.whl (140 kB)\n",
            "\u001b[K     |████████████████████████████████| 140 kB 50.5 MB/s \n",
            "\u001b[?25hRequirement already satisfied: python-dateutil<3.0.0,>=2.1 in /usr/local/lib/python3.7/dist-packages (from botocore<1.30.0,>=1.29.12->boto3->watson-machine-learning-client) (2.8.2)\n",
            "Requirement already satisfied: six>=1.5 in /usr/local/lib/python3.7/dist-packages (from python-dateutil<3.0.0,>=2.1->botocore<1.30.0,>=1.29.12->boto3->watson-machine-learning-client) (1.15.0)\n",
            "Collecting ibm-cos-sdk-core==2.12.0\n",
            "  Downloading ibm-cos-sdk-core-2.12.0.tar.gz (956 kB)\n",
            "\u001b[K     |████████████████████████████████| 956 kB 43.2 MB/s \n",
            "\u001b[?25hCollecting ibm-cos-sdk-s3transfer==2.12.0\n",
            "  Downloading ibm-cos-sdk-s3transfer-2.12.0.tar.gz (135 kB)\n",
            "\u001b[K     |████████████████████████████████| 135 kB 56.2 MB/s \n",
            "\u001b[?25hCollecting jmespath<2.0.0,>=0.7.1\n",
            "  Downloading jmespath-0.10.0-py2.py3-none-any.whl (24 kB)\n",
            "Collecting requests\n",
            "  Downloading requests-2.28.1-py3-none-any.whl (62 kB)\n",
            "\u001b[K     |████████████████████████████████| 62 kB 1.3 MB/s \n",
            "\u001b[?25hRequirement already satisfied: charset-normalizer<3,>=2 in /usr/local/lib/python3.7/dist-packages (from requests->watson-machine-learning-client) (2.1.1)\n",
            "Requirement already satisfied: idna<4,>=2.5 in /usr/local/lib/python3.7/dist-packages (from requests->watson-machine-learning-client) (2.10)\n",
            "Requirement already satisfied: pytz>=2017.3 in /usr/local/lib/python3.7/dist-packages (from pandas->watson-machine-learning-client) (2022.6)\n",
            "Requirement already satisfied: numpy>=1.17.3 in /usr/local/lib/python3.7/dist-packages (from pandas->watson-machine-learning-client) (1.21.6)\n",
            "Building wheels for collected packages: ibm-cos-sdk, ibm-cos-sdk-core, ibm-cos-sdk-s3transfer\n",
            "  Building wheel for ibm-cos-sdk (setup.py) ... \u001b[?25l\u001b[?25hdone\n",
            "  Created wheel for ibm-cos-sdk: filename=ibm_cos_sdk-2.12.0-py3-none-any.whl size=73931 sha256=b0185782b196184e4444b582a60681eaecf993f8db9cd942273a6b681ce00547\n",
            "  Stored in directory: /root/.cache/pip/wheels/ec/94/29/2b57327cf00664b6614304f7958abd29d77ea0e5bbece2ea57\n",
            "  Building wheel for ibm-cos-sdk-core (setup.py) ... \u001b[?25l\u001b[?25hdone\n",
            "  Created wheel for ibm-cos-sdk-core: filename=ibm_cos_sdk_core-2.12.0-py3-none-any.whl size=562962 sha256=dba7e1043defafcfd732bb244aad35d468ab1cfbeb9da58d735328c874fdb115\n",
            "  Stored in directory: /root/.cache/pip/wheels/64/56/fb/5cd6f4f40406c828a5289b95b2752a4d142a9afb359244ed8d\n",
            "  Building wheel for ibm-cos-sdk-s3transfer (setup.py) ... \u001b[?25l\u001b[?25hdone\n",
            "  Created wheel for ibm-cos-sdk-s3transfer: filename=ibm_cos_sdk_s3transfer-2.12.0-py3-none-any.whl size=89778 sha256=f6983cfb000e5d6c5ca0ac4ba9dad768a6de8e919d25cdb59adfd756d40878b3\n",
            "  Stored in directory: /root/.cache/pip/wheels/57/79/6a/ffe3370ed7ebc00604f9f76766e1e0348dcdcad2b2e32df9e1\n",
            "Successfully built ibm-cos-sdk ibm-cos-sdk-core ibm-cos-sdk-s3transfer\n",
            "Installing collected packages: urllib3, requests, jmespath, ibm-cos-sdk-core, botocore, s3transfer, ibm-cos-sdk-s3transfer, lomond, ibm-cos-sdk, boto3, watson-machine-learning-client\n",
            "  Attempting uninstall: urllib3\n",
            "    Found existing installation: urllib3 1.24.3\n",
            "    Uninstalling urllib3-1.24.3:\n",
            "      Successfully uninstalled urllib3-1.24.3\n",
            "  Attempting uninstall: requests\n",
            "    Found existing installation: requests 2.23.0\n",
            "    Uninstalling requests-2.23.0:\n",
            "      Successfully uninstalled requests-2.23.0\n",
            "Successfully installed boto3-1.26.12 botocore-1.29.12 ibm-cos-sdk-2.12.0 ibm-cos-sdk-core-2.12.0 ibm-cos-sdk-s3transfer-2.12.0 jmespath-0.10.0 lomond-0.3.3 requests-2.28.1 s3transfer-0.6.0 urllib3-1.26.12 watson-machine-learning-client-1.0.391\n"
          ]
        },
        {
          "output_type": "display_data",
          "data": {
            "application/vnd.colab-display-data+json": {
              "pip_warning": {
                "packages": [
                  "requests",
                  "urllib3"
                ]
              }
            }
          },
          "metadata": {}
        }
      ]
    },
    {
      "cell_type": "code",
      "source": [
        "!pip install ibm_watson_machine_learning"
      ],
      "metadata": {
        "colab": {
          "base_uri": "https://localhost:8080/"
        },
        "id": "1jJbPuAgB796",
        "outputId": "9d6bcfbd-7aca-4cef-8ef1-616b3157423e"
      },
      "execution_count": 21,
      "outputs": [
        {
          "output_type": "stream",
          "name": "stdout",
          "text": [
            "Looking in indexes: https://pypi.org/simple, https://us-python.pkg.dev/colab-wheels/public/simple/\n",
            "Requirement already satisfied: ibm_watson_machine_learning in /usr/local/lib/python3.7/dist-packages (1.0.257)\n",
            "Requirement already satisfied: urllib3 in /usr/local/lib/python3.7/dist-packages (from ibm_watson_machine_learning) (1.26.12)\n",
            "Requirement already satisfied: requests in /usr/local/lib/python3.7/dist-packages (from ibm_watson_machine_learning) (2.28.1)\n",
            "Requirement already satisfied: lomond in /usr/local/lib/python3.7/dist-packages (from ibm_watson_machine_learning) (0.3.3)\n",
            "Requirement already satisfied: importlib-metadata in /usr/local/lib/python3.7/dist-packages (from ibm_watson_machine_learning) (4.13.0)\n",
            "Requirement already satisfied: pandas<1.5.0,>=0.24.2 in /usr/local/lib/python3.7/dist-packages (from ibm_watson_machine_learning) (1.3.5)\n",
            "Requirement already satisfied: tabulate in /usr/local/lib/python3.7/dist-packages (from ibm_watson_machine_learning) (0.8.10)\n",
            "Requirement already satisfied: ibm-cos-sdk==2.7.* in /usr/local/lib/python3.7/dist-packages (from ibm_watson_machine_learning) (2.7.0)\n",
            "Requirement already satisfied: certifi in /usr/local/lib/python3.7/dist-packages (from ibm_watson_machine_learning) (2022.9.24)\n",
            "Requirement already satisfied: packaging in /usr/local/lib/python3.7/dist-packages (from ibm_watson_machine_learning) (21.3)\n",
            "Requirement already satisfied: ibm-cos-sdk-s3transfer==2.7.0 in /usr/local/lib/python3.7/dist-packages (from ibm-cos-sdk==2.7.*->ibm_watson_machine_learning) (2.7.0)\n",
            "Requirement already satisfied: ibm-cos-sdk-core==2.7.0 in /usr/local/lib/python3.7/dist-packages (from ibm-cos-sdk==2.7.*->ibm_watson_machine_learning) (2.7.0)\n",
            "Requirement already satisfied: jmespath<1.0.0,>=0.7.1 in /usr/local/lib/python3.7/dist-packages (from ibm-cos-sdk==2.7.*->ibm_watson_machine_learning) (0.10.0)\n",
            "Requirement already satisfied: python-dateutil<3.0.0,>=2.1 in /usr/local/lib/python3.7/dist-packages (from ibm-cos-sdk-core==2.7.0->ibm-cos-sdk==2.7.*->ibm_watson_machine_learning) (2.8.2)\n",
            "Requirement already satisfied: docutils<0.16,>=0.10 in /usr/local/lib/python3.7/dist-packages (from ibm-cos-sdk-core==2.7.0->ibm-cos-sdk==2.7.*->ibm_watson_machine_learning) (0.15.2)\n",
            "Requirement already satisfied: numpy>=1.17.3 in /usr/local/lib/python3.7/dist-packages (from pandas<1.5.0,>=0.24.2->ibm_watson_machine_learning) (1.21.6)\n",
            "Requirement already satisfied: pytz>=2017.3 in /usr/local/lib/python3.7/dist-packages (from pandas<1.5.0,>=0.24.2->ibm_watson_machine_learning) (2022.6)\n",
            "Requirement already satisfied: six>=1.5 in /usr/local/lib/python3.7/dist-packages (from python-dateutil<3.0.0,>=2.1->ibm-cos-sdk-core==2.7.0->ibm-cos-sdk==2.7.*->ibm_watson_machine_learning) (1.15.0)\n",
            "Requirement already satisfied: charset-normalizer<3,>=2 in /usr/local/lib/python3.7/dist-packages (from requests->ibm_watson_machine_learning) (2.1.1)\n",
            "Requirement already satisfied: idna<4,>=2.5 in /usr/local/lib/python3.7/dist-packages (from requests->ibm_watson_machine_learning) (2.10)\n",
            "Requirement already satisfied: zipp>=0.5 in /usr/local/lib/python3.7/dist-packages (from importlib-metadata->ibm_watson_machine_learning) (3.10.0)\n",
            "Requirement already satisfied: typing-extensions>=3.6.4 in /usr/local/lib/python3.7/dist-packages (from importlib-metadata->ibm_watson_machine_learning) (4.1.1)\n",
            "Requirement already satisfied: pyparsing!=3.0.5,>=2.0.2 in /usr/local/lib/python3.7/dist-packages (from packaging->ibm_watson_machine_learning) (3.0.9)\n"
          ]
        }
      ]
    },
    {
      "cell_type": "code",
      "source": [
        "#Connecting to IBM Cloud from Notebook\n",
        "from ibm_watson_machine_learning import APIClient\n",
        "credentials = {\n",
        "    'url':'https://us-south.ml.cloud.ibm.com',\n",
        "    'apikey':\"Bvwp3-ftRfcffxQna59qLs9CaSS-vtpdlVbXeo8KXgR3\"\n",
        "}\n",
        "Client = APIClient(credentials)"
      ],
      "metadata": {
        "colab": {
          "base_uri": "https://localhost:8080/"
        },
        "id": "lWu6hlcmCM-6",
        "outputId": "0cb860a0-7809-404c-8780-d03e48c4b61b"
      },
      "execution_count": 22,
      "outputs": [
        {
          "output_type": "stream",
          "name": "stdout",
          "text": [
            "Python 3.7 and 3.8 frameworks are deprecated and will be removed in a future release. Use Python 3.9 framework instead.\n"
          ]
        }
      ]
    },
    {
      "cell_type": "code",
      "source": [
        "Client\n",
        "Client.spaces.get_details()"
      ],
      "metadata": {
        "colab": {
          "base_uri": "https://localhost:8080/"
        },
        "id": "bFrRpIy6CN3B",
        "outputId": "f7127284-6b53-47bc-a721-fc16540b71b7"
      },
      "execution_count": 24,
      "outputs": [
        {
          "output_type": "execute_result",
          "data": {
            "text/plain": [
              "{'resources': []}"
            ]
          },
          "metadata": {},
          "execution_count": 24
        }
      ]
    },
    {
      "cell_type": "code",
      "source": [
        "Client.spaces.list()"
      ],
      "metadata": {
        "colab": {
          "base_uri": "https://localhost:8080/"
        },
        "id": "7iMFYrxiCRKz",
        "outputId": "d184869b-5449-45ac-9f0c-644aebfa22bc"
      },
      "execution_count": 25,
      "outputs": [
        {
          "output_type": "stream",
          "name": "stdout",
          "text": [
            "Note: 'limit' is not provided. Only first 50 records will be displayed if the number of records exceed 50\n",
            "--  ----  -------\n",
            "ID  NAME  CREATED\n",
            "--  ----  -------\n"
          ]
        }
      ]
    },
    {
      "cell_type": "code",
      "source": [
        "space_uid = '505bce6b-7773-40dd-bec6-ff526ef51e4d' #Space User ID\n",
        "space_uid"
      ],
      "metadata": {
        "id": "5TqKVkkoCTa7"
      },
      "execution_count": null,
      "outputs": []
    },
    {
      "cell_type": "code",
      "source": [
        "#Setting created deployment space as default\n",
        "Client.set.default_space(space_uid)"
      ],
      "metadata": {
        "id": "s_J_KtSlCVgR"
      },
      "execution_count": null,
      "outputs": []
    },
    {
      "cell_type": "code",
      "source": [
        "#Seeing tensorflow asset_id\n",
        "Client.software_specifications.list()"
      ],
      "metadata": {
        "id": "T4pTbpd1CXur"
      },
      "execution_count": null,
      "outputs": []
    },
    {
      "cell_type": "code",
      "source": [
        "software_space_uid = Client.software_specifications.get_uid_by_name('tensorflow_1.15-py3.6-ddl')\n",
        "software_space_uid"
      ],
      "metadata": {
        "id": "FiJuFb5mCcJq"
      },
      "execution_count": null,
      "outputs": []
    },
    {
      "cell_type": "code",
      "source": [
        "pip install twilio "
      ],
      "metadata": {
        "id": "ylYBmSNVNKgQ",
        "colab": {
          "base_uri": "https://localhost:8080/"
        },
        "outputId": "b0d578a2-96b3-4654-ad46-ca3d588a9447"
      },
      "execution_count": null,
      "outputs": [
        {
          "output_type": "stream",
          "name": "stdout",
          "text": [
            "Looking in indexes: https://pypi.org/simple, https://us-python.pkg.dev/colab-wheels/public/simple/\n",
            "Requirement already satisfied: twilio in /usr/local/lib/python3.7/dist-packages (7.15.3)\n",
            "Requirement already satisfied: requests>=2.0.0 in /usr/local/lib/python3.7/dist-packages (from twilio) (2.23.0)\n",
            "Requirement already satisfied: pytz in /usr/local/lib/python3.7/dist-packages (from twilio) (2022.6)\n",
            "Requirement already satisfied: PyJWT<3.0.0,>=2.0.0 in /usr/local/lib/python3.7/dist-packages (from twilio) (2.6.0)\n",
            "Requirement already satisfied: idna<3,>=2.5 in /usr/local/lib/python3.7/dist-packages (from requests>=2.0.0->twilio) (2.10)\n",
            "Requirement already satisfied: urllib3!=1.25.0,!=1.25.1,<1.26,>=1.21.1 in /usr/local/lib/python3.7/dist-packages (from requests>=2.0.0->twilio) (1.24.3)\n",
            "Requirement already satisfied: chardet<4,>=3.0.2 in /usr/local/lib/python3.7/dist-packages (from requests>=2.0.0->twilio) (3.0.4)\n",
            "Requirement already satisfied: certifi>=2017.4.17 in /usr/local/lib/python3.7/dist-packages (from requests>=2.0.0->twilio) (2022.9.24)\n"
          ]
        }
      ]
    },
    {
      "cell_type": "code",
      "source": [
        "pip install playsound"
      ],
      "metadata": {
        "id": "TJdKizYHNKnn",
        "colab": {
          "base_uri": "https://localhost:8080/"
        },
        "outputId": "78c438cb-a676-4162-a15f-62271f720bcc"
      },
      "execution_count": null,
      "outputs": [
        {
          "output_type": "stream",
          "name": "stdout",
          "text": [
            "Looking in indexes: https://pypi.org/simple, https://us-python.pkg.dev/colab-wheels/public/simple/\n",
            "Requirement already satisfied: playsound in /usr/local/lib/python3.7/dist-packages (1.3.0)\n"
          ]
        }
      ]
    },
    {
      "cell_type": "code",
      "source": [
        "pip install pygobject"
      ],
      "metadata": {
        "colab": {
          "base_uri": "https://localhost:8080/"
        },
        "id": "9ZkCtrJtszdW",
        "outputId": "07a7998b-1b58-41b2-8573-651851c62632"
      },
      "execution_count": null,
      "outputs": [
        {
          "output_type": "stream",
          "name": "stdout",
          "text": [
            "Looking in indexes: https://pypi.org/simple, https://us-python.pkg.dev/colab-wheels/public/simple/\n",
            "Requirement already satisfied: pygobject in /usr/lib/python3/dist-packages (3.26.1)\n"
          ]
        }
      ]
    },
    {
      "cell_type": "code",
      "source": [
        "import cv2 \n",
        "import numpy as np\n",
        "from google.colab.patches import cv2_imshow\n",
        "from matplotlib import pyplot as plt\n",
        "import librosa\n",
        "from tensorflow.keras.preprocessing import image\n",
        "from keras.models import load_model"
      ],
      "metadata": {
        "id": "Bc5SwEF0NKwH"
      },
      "execution_count": null,
      "outputs": []
    },
    {
      "cell_type": "code",
      "source": [
        "from cv2 import VideoCapture\n",
        "from cv2 import waitKey"
      ],
      "metadata": {
        "id": "ZSXvU1o0NKzX"
      },
      "execution_count": null,
      "outputs": []
    },
    {
      "cell_type": "code",
      "source": [
        "model=load_model('/content/drive/MyDrive/CNN/forest1.h5')\n",
        "video=cv2.VideoCapture(0)\n",
        "name=['forest','with fire']"
      ],
      "metadata": {
        "id": "ptH7bHk2NVNA"
      },
      "execution_count": null,
      "outputs": []
    },
    {
      "cell_type": "code",
      "source": [
        "# Create a VideoCapture object and read from input file\n",
        "# If the input is the camera, pass 0 instead of the video file name\n",
        "cap = cv2.VideoCapture('/content/drive/MyDrive/CNN/Watch_ Incredible footage reveals extent of fast moving McKinney forest fire.mp4')\n",
        " \n",
        "# Check if camera opened successfully\n",
        "if (cap.isOpened()== False): \n",
        "    print(\"Error opening video stream or file\")\n",
        " \n",
        " # Read until video is completed\n",
        "    while(cap.isOpened()):\n",
        "  # Capture frame-by-frame\n",
        "      ret, frame = cap.read()\n",
        "      if ret == True:\n",
        "        x=image.img_to_array(frame)\n",
        "        res=cv2.resize(x,dsize=(128,128),interpolation=cv2.INTER_CUBIC)\n",
        "    #expand the image shape\n",
        "        x=np.expand_dims(res,axis=0)\n",
        "        model=load_model('/content/drive/MyDrive/CNN/forest1.h5')\n",
        "        cv2_imshow(frame)\n",
        "        pred=model.predict(x)\n",
        "        pred=int(pred[0][0])\n",
        "        pred\n",
        "        int(pred)\n",
        "        if pred==0:\n",
        "            print('Forest fire')\n",
        "            break\n",
        "        else:\n",
        "            print(\"danger\")\n",
        "            break\n",
        " \n",
        " # When everything done, release the video capture object\n",
        "cap.release()\n",
        " \n",
        "# Closes all the frames\n",
        "cv2.destroyAllWindows()\n",
        "if pred==0:\n",
        "    account_sid='AC991ed239cc21e949e8b36f3f013a1316'\n",
        "    auth_token='c0017f29919c0bd4188efccc4df65a39'\n",
        "    client=Client(account_sid,auth_token)\n",
        "    message=client.messages \\\n",
        "    .create(\n",
        "      body='forest fire is detected,stay alert',\n",
        "      #use twilio free number\n",
        "      from_='+16693225541',\n",
        "      #to number\n",
        "      to='+916380363013')\n",
        "    print(message.sid)\n",
        "    print(\"Fire detected\")\n",
        "    print(\"SMS Sent!\")\n",
        "    "
      ],
      "metadata": {
        "id": "9VBgV0OQNVX3"
      },
      "execution_count": null,
      "outputs": []
    }
  ]
}