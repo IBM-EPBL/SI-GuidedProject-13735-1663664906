{
  "nbformat": 4,
  "nbformat_minor": 0,
  "metadata": {
    "colab": {
      "provenance": []
    },
    "kernelspec": {
      "name": "python3",
      "display_name": "Python 3"
    },
    "language_info": {
      "name": "python"
    }
  },
  "cells": [
    {
      "cell_type": "code",
      "source": [
        "from google.colab import drive\n",
        "drive.mount('/content/drive')"
      ],
      "metadata": {
        "colab": {
          "base_uri": "https://localhost:8080/"
        },
        "id": "5T1erN4ngJWN",
        "outputId": "ec05c698-1945-4642-8220-49fac59aed00"
      },
      "execution_count": null,
      "outputs": [
        {
          "output_type": "stream",
          "name": "stdout",
          "text": [
            "Drive already mounted at /content/drive; to attempt to forcibly remount, call drive.mount(\"/content/drive\", force_remount=True).\n"
          ]
        }
      ]
    },
    {
      "cell_type": "code",
      "execution_count": null,
      "metadata": {
        "id": "hszTaFDwLzwj"
      },
      "outputs": [],
      "source": [
        "import keras\n",
        "from keras.preprocessing.image import ImageDataGenerator\n",
        "from keras.preprocessing import image\n",
        "import pandas as pd"
      ]
    },
    {
      "cell_type": "code",
      "source": [
        "train_datagen = ImageDataGenerator(\n",
        "    rotation_range=180,\n",
        "    rescale=1./255,\n",
        "    shear_range=0.2,\n",
        "    zoom_range=0.2,\n",
        "    horizontal_flip=True,\n",
        "\n",
        ")\n",
        "\n",
        "test_datagen=ImageDataGenerator(rescale=1./255)\n"
      ],
      "metadata": {
        "id": "Mg7KJVoAL_uJ"
      },
      "execution_count": null,
      "outputs": []
    },
    {
      "cell_type": "code",
      "source": [
        "train_generator = train_datagen.flow_from_directory('/content/drive/MyDrive/CNN/dataset/Dataset/train_set',\n",
        "    target_size=(128, 128),\n",
        "    batch_size=32,\n",
        "    class_mode='binary'\n",
        ")\n",
        "\n",
        "test_generator = test_datagen.flow_from_directory('/content/drive/MyDrive/CNN/dataset/Dataset/test_set',\n",
        "    target_size=(128, 128),\n",
        "    batch_size=32,\n",
        "    class_mode='binary'\n",
        ")"
      ],
      "metadata": {
        "colab": {
          "base_uri": "https://localhost:8080/"
        },
        "id": "5Hc91ijBMDSn",
        "outputId": "2acf9faf-9d8d-43eb-cbd6-7d3dfe91f8a0"
      },
      "execution_count": null,
      "outputs": [
        {
          "output_type": "stream",
          "name": "stdout",
          "text": [
            "Found 333 images belonging to 2 classes.\n",
            "Found 121 images belonging to 2 classes.\n"
          ]
        }
      ]
    },
    {
      "cell_type": "code",
      "source": [
        "from keras.models import Sequential\n",
        "from keras.layers import Convolution2D, MaxPooling2D\n",
        "from keras.layers import Flatten, Dense\n",
        "from keras.layers import Activation\n",
        "import warnings \n",
        "warnings.filterwarnings('ignore')\n"
      ],
      "metadata": {
        "id": "fHcgAka9MFlA"
      },
      "execution_count": null,
      "outputs": []
    },
    {
      "cell_type": "code",
      "source": [
        "model=Sequential()"
      ],
      "metadata": {
        "id": "QEUSC7K8MI-p"
      },
      "execution_count": null,
      "outputs": []
    },
    {
      "cell_type": "code",
      "source": [
        "model.add(Convolution2D(32,(3,3),input_shape=(128,128,3),activation='relu'))"
      ],
      "metadata": {
        "id": "5cnzi8bmMLWA"
      },
      "execution_count": null,
      "outputs": []
    },
    {
      "cell_type": "code",
      "source": [
        "model.add(MaxPooling2D(pool_size=(2,2)))"
      ],
      "metadata": {
        "id": "yP-gHWxEMNLA"
      },
      "execution_count": null,
      "outputs": []
    },
    {
      "cell_type": "code",
      "source": [
        "model.add(Flatten())"
      ],
      "metadata": {
        "id": "F71t_QF2MPPv"
      },
      "execution_count": null,
      "outputs": []
    },
    {
      "cell_type": "code",
      "source": [
        "model.add(Dense(150))\n",
        "model.add(Activation('relu'))"
      ],
      "metadata": {
        "id": "JGfwgeLQMRFI"
      },
      "execution_count": null,
      "outputs": []
    },
    {
      "cell_type": "code",
      "source": [
        "model.add(Dense(1))\n",
        "model.add(Activation('sigmoid'))\n",
        "          "
      ],
      "metadata": {
        "id": "UARAkb6aMTGZ"
      },
      "execution_count": null,
      "outputs": []
    },
    {
      "cell_type": "code",
      "source": [
        "model.compile(loss='binary_crossentropy',\n",
        "             optimizer=\"adam\",\n",
        "             metrics=[\"accuracy\"])"
      ],
      "metadata": {
        "id": "tqWkcak4MU70"
      },
      "execution_count": null,
      "outputs": []
    },
    {
      "cell_type": "code",
      "source": [
        "model.fit_generator(train_generator,epochs=10,validation_data=test_generator,validation_steps=4)"
      ],
      "metadata": {
        "id": "xdJyOM2QMm3H",
        "colab": {
          "base_uri": "https://localhost:8080/"
        },
        "outputId": "f310c6f8-3c55-40af-a90e-92beff36b041"
      },
      "execution_count": null,
      "outputs": [
        {
          "output_type": "stream",
          "name": "stdout",
          "text": [
            "Epoch 1/10\n",
            "11/11 [==============================] - 25s 2s/step - loss: 4.8287 - accuracy: 0.5285 - val_loss: 0.3941 - val_accuracy: 0.8678\n",
            "Epoch 2/10\n",
            "11/11 [==============================] - 23s 2s/step - loss: 1.0293 - accuracy: 0.7477 - val_loss: 0.4820 - val_accuracy: 0.8512\n",
            "Epoch 3/10\n",
            "11/11 [==============================] - 23s 2s/step - loss: 0.3819 - accuracy: 0.8138 - val_loss: 0.1583 - val_accuracy: 0.9421\n",
            "Epoch 4/10\n",
            "11/11 [==============================] - 23s 2s/step - loss: 0.2586 - accuracy: 0.8799 - val_loss: 0.0989 - val_accuracy: 0.9504\n",
            "Epoch 5/10\n",
            "11/11 [==============================] - 21s 2s/step - loss: 0.2046 - accuracy: 0.9129 - val_loss: 0.0852 - val_accuracy: 0.9669\n",
            "Epoch 6/10\n",
            "11/11 [==============================] - 21s 2s/step - loss: 0.1804 - accuracy: 0.9339 - val_loss: 0.0676 - val_accuracy: 0.9587\n",
            "Epoch 7/10\n",
            "11/11 [==============================] - 22s 2s/step - loss: 0.1826 - accuracy: 0.9129 - val_loss: 0.0741 - val_accuracy: 0.9669\n",
            "Epoch 8/10\n",
            "11/11 [==============================] - 21s 2s/step - loss: 0.1786 - accuracy: 0.9219 - val_loss: 0.0649 - val_accuracy: 0.9752\n",
            "Epoch 9/10\n",
            "11/11 [==============================] - 25s 2s/step - loss: 0.1723 - accuracy: 0.9189 - val_loss: 0.0449 - val_accuracy: 0.9835\n",
            "Epoch 10/10\n",
            "11/11 [==============================] - 21s 2s/step - loss: 0.1697 - accuracy: 0.9249 - val_loss: 0.0487 - val_accuracy: 0.9752\n"
          ]
        },
        {
          "output_type": "execute_result",
          "data": {
            "text/plain": [
              "<keras.callbacks.History at 0x7f71becada10>"
            ]
          },
          "metadata": {},
          "execution_count": 76
        }
      ]
    },
    {
      "cell_type": "code",
      "source": [
        "model.save(\"forest1.h5\")"
      ],
      "metadata": {
        "id": "tI0DyfuBNAWA"
      },
      "execution_count": null,
      "outputs": []
    },
    {
      "cell_type": "code",
      "source": [
        "from keras.models import load_model\n",
        "from keras.preprocessing import image\n",
        "from tensorflow.keras.preprocessing import image\n",
        "import numpy as np \n",
        "import cv2\n"
      ],
      "metadata": {
        "id": "vGVB8ACNNBLf"
      },
      "execution_count": null,
      "outputs": []
    },
    {
      "cell_type": "code",
      "source": [
        "model=load_model('/content/drive/MyDrive/CNN/forest1.h5')"
      ],
      "metadata": {
        "id": "PegP29dTNBrY"
      },
      "execution_count": null,
      "outputs": []
    },
    {
      "cell_type": "code",
      "source": [
        "img=image.load_img('/content/drive/MyDrive/CNN/dataset/Dataset/train_set/with fire/with fire (1).png')\n",
        "x=image.img_to_array(img)\n",
        "res = cv2.resize(x, dsize=(128,128 ), interpolation=cv2.INTER_CUBIC)\n",
        "x=np.expand_dims(res,axis=0)"
      ],
      "metadata": {
        "id": "LtGamg_vNBtz"
      },
      "execution_count": null,
      "outputs": []
    },
    {
      "cell_type": "code",
      "source": [
        "pred=model.predict(x)"
      ],
      "metadata": {
        "id": "5aOHmbU8NBwy",
        "colab": {
          "base_uri": "https://localhost:8080/"
        },
        "outputId": "98a0de19-7f9a-4cb4-f178-0af709ddbfa1"
      },
      "execution_count": null,
      "outputs": [
        {
          "output_type": "stream",
          "name": "stdout",
          "text": [
            "1/1 [==============================] - 0s 79ms/step\n"
          ]
        }
      ]
    },
    {
      "cell_type": "code",
      "source": [
        "pred"
      ],
      "metadata": {
        "id": "koa8ZrRJNKca",
        "colab": {
          "base_uri": "https://localhost:8080/"
        },
        "outputId": "c4756921-3267-44c0-a75b-76159f5bca12"
      },
      "execution_count": null,
      "outputs": [
        {
          "output_type": "execute_result",
          "data": {
            "text/plain": [
              "array([[0.00058011]], dtype=float32)"
            ]
          },
          "metadata": {},
          "execution_count": 82
        }
      ]
    },
    {
      "cell_type": "code",
      "source": [
        "pip install twilio "
      ],
      "metadata": {
        "id": "ylYBmSNVNKgQ",
        "colab": {
          "base_uri": "https://localhost:8080/"
        },
        "outputId": "b0d578a2-96b3-4654-ad46-ca3d588a9447"
      },
      "execution_count": null,
      "outputs": [
        {
          "output_type": "stream",
          "name": "stdout",
          "text": [
            "Looking in indexes: https://pypi.org/simple, https://us-python.pkg.dev/colab-wheels/public/simple/\n",
            "Requirement already satisfied: twilio in /usr/local/lib/python3.7/dist-packages (7.15.3)\n",
            "Requirement already satisfied: requests>=2.0.0 in /usr/local/lib/python3.7/dist-packages (from twilio) (2.23.0)\n",
            "Requirement already satisfied: pytz in /usr/local/lib/python3.7/dist-packages (from twilio) (2022.6)\n",
            "Requirement already satisfied: PyJWT<3.0.0,>=2.0.0 in /usr/local/lib/python3.7/dist-packages (from twilio) (2.6.0)\n",
            "Requirement already satisfied: idna<3,>=2.5 in /usr/local/lib/python3.7/dist-packages (from requests>=2.0.0->twilio) (2.10)\n",
            "Requirement already satisfied: urllib3!=1.25.0,!=1.25.1,<1.26,>=1.21.1 in /usr/local/lib/python3.7/dist-packages (from requests>=2.0.0->twilio) (1.24.3)\n",
            "Requirement already satisfied: chardet<4,>=3.0.2 in /usr/local/lib/python3.7/dist-packages (from requests>=2.0.0->twilio) (3.0.4)\n",
            "Requirement already satisfied: certifi>=2017.4.17 in /usr/local/lib/python3.7/dist-packages (from requests>=2.0.0->twilio) (2022.9.24)\n"
          ]
        }
      ]
    },
    {
      "cell_type": "code",
      "source": [
        "pip install playsound"
      ],
      "metadata": {
        "id": "TJdKizYHNKnn",
        "colab": {
          "base_uri": "https://localhost:8080/"
        },
        "outputId": "78c438cb-a676-4162-a15f-62271f720bcc"
      },
      "execution_count": null,
      "outputs": [
        {
          "output_type": "stream",
          "name": "stdout",
          "text": [
            "Looking in indexes: https://pypi.org/simple, https://us-python.pkg.dev/colab-wheels/public/simple/\n",
            "Requirement already satisfied: playsound in /usr/local/lib/python3.7/dist-packages (1.3.0)\n"
          ]
        }
      ]
    },
    {
      "cell_type": "code",
      "source": [
        "pip install pygobject"
      ],
      "metadata": {
        "colab": {
          "base_uri": "https://localhost:8080/"
        },
        "id": "9ZkCtrJtszdW",
        "outputId": "07a7998b-1b58-41b2-8573-651851c62632"
      },
      "execution_count": null,
      "outputs": [
        {
          "output_type": "stream",
          "name": "stdout",
          "text": [
            "Looking in indexes: https://pypi.org/simple, https://us-python.pkg.dev/colab-wheels/public/simple/\n",
            "Requirement already satisfied: pygobject in /usr/lib/python3/dist-packages (3.26.1)\n"
          ]
        }
      ]
    },
    {
      "cell_type": "code",
      "source": [
        "import cv2 \n",
        "import numpy as np\n",
        "from google.colab.patches import cv2_imshow\n",
        "from matplotlib import pyplot as plt\n",
        "import librosa\n",
        "from tensorflow.keras.preprocessing import image\n",
        "from keras.models import load_model"
      ],
      "metadata": {
        "id": "Bc5SwEF0NKwH"
      },
      "execution_count": null,
      "outputs": []
    },
    {
      "cell_type": "code",
      "source": [
        "from cv2 import VideoCapture\n",
        "from cv2 import waitKey"
      ],
      "metadata": {
        "id": "ZSXvU1o0NKzX"
      },
      "execution_count": null,
      "outputs": []
    },
    {
      "cell_type": "code",
      "source": [
        "model=load_model('/content/drive/MyDrive/CNN/forest1.h5')\n",
        "video=cv2.VideoCapture(0)\n",
        "name=['forest','with fire']"
      ],
      "metadata": {
        "id": "ptH7bHk2NVNA"
      },
      "execution_count": null,
      "outputs": []
    },
    {
      "cell_type": "code",
      "source": [
        "# Create a VideoCapture object and read from input file\n",
        "# If the input is the camera, pass 0 instead of the video file name\n",
        "cap = cv2.VideoCapture('/content/drive/MyDrive/CNN/Watch_ Incredible footage reveals extent of fast moving McKinney forest fire.mp4')\n",
        " \n",
        "# Check if camera opened successfully\n",
        "if (cap.isOpened()== False): \n",
        "    print(\"Error opening video stream or file\")\n",
        " \n",
        " # Read until video is completed\n",
        "    while(cap.isOpened()):\n",
        "  # Capture frame-by-frame\n",
        "      ret, frame = cap.read()\n",
        "      if ret == True:\n",
        "        x=image.img_to_array(frame)\n",
        "        res=cv2.resize(x,dsize=(128,128),interpolation=cv2.INTER_CUBIC)\n",
        "    #expand the image shape\n",
        "        x=np.expand_dims(res,axis=0)\n",
        "        model=load_model('/content/drive/MyDrive/CNN/forest1.h5')\n",
        "        cv2_imshow(frame)\n",
        "        pred=model.predict(x)\n",
        "        pred=int(pred[0][0])\n",
        "        pred\n",
        "        int(pred)\n",
        "        if pred==0:\n",
        "            print('Forest fire')\n",
        "            break\n",
        "        else:\n",
        "            print(\"danger\")\n",
        "            break\n",
        " \n",
        " # When everything done, release the video capture object\n",
        "cap.release()\n",
        " \n",
        "# Closes all the frames\n",
        "cv2.destroyAllWindows()\n",
        "if pred==0:\n",
        "    account_sid='AC991ed239cc21e949e8b36f3f013a1316'\n",
        "    auth_token='c0017f29919c0bd4188efccc4df65a39'\n",
        "    client=Client(account_sid,auth_token)\n",
        "    message=client.messages \\\n",
        "    .create(\n",
        "      body='forest fire is detected,stay alert',\n",
        "      #use twilio free number\n",
        "      from_='+16693225541',\n",
        "      #to number\n",
        "      to='+916380363013')\n",
        "    print(message.sid)\n",
        "    print(\"Fire detected\")\n",
        "    print(\"SMS Sent!\")\n",
        "    "
      ],
      "metadata": {
        "id": "9VBgV0OQNVX3"
      },
      "execution_count": null,
      "outputs": []
    }
  ]
}