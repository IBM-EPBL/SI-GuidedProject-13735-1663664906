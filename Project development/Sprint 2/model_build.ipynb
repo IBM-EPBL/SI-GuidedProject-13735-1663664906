{
 "cells": [
  {
   "cell_type": "code",
   "execution_count": null,
   "metadata": {},
   "outputs": [],
   "source": [
    "#importing the model building libraries"
   ]
  },
  {
   "cell_type": "code",
   "execution_count": 23,
   "metadata": {},
   "outputs": [],
   "source": [
    "from keras.models import Sequential\n",
    "from keras.layers import Convolution2D, MaxPooling2D\n",
    "from keras.layers import Flatten, Dense\n",
    "from keras.layers import Activation\n",
    "import warnings \n",
    "warnings.filterwarnings('ignore')\n"
   ]
  },
  {
   "cell_type": "code",
   "execution_count": null,
   "metadata": {},
   "outputs": [],
   "source": [
    "#initializing the model"
   ]
  },
  {
   "cell_type": "code",
   "execution_count": 24,
   "metadata": {},
   "outputs": [],
   "source": [
    "model=Sequential()"
   ]
  },
  {
   "cell_type": "code",
   "execution_count": null,
   "metadata": {},
   "outputs": [],
   "source": [
    "#Adding CNN layers"
   ]
  },
  {
   "cell_type": "code",
   "execution_count": 25,
   "metadata": {},
   "outputs": [],
   "source": [
    "model.add(Convolution2D(32,(3,3),input_shape=(128,128,3),activation='relu'))"
   ]
  },
  {
   "cell_type": "code",
   "execution_count": 26,
   "metadata": {},
   "outputs": [],
   "source": [
    "model.add(MaxPooling2D(pool_size=(2,2)))"
   ]
  },
  {
   "cell_type": "code",
   "execution_count": 27,
   "metadata": {},
   "outputs": [],
   "source": [
    "model.add(Flatten())"
   ]
  },
  {
   "cell_type": "code",
   "execution_count": 28,
   "metadata": {},
   "outputs": [],
   "source": [
    "model.add(Dense(150))\n",
    "model.add(Activation('relu'))\n"
   ]
  },
  {
   "cell_type": "code",
   "execution_count": 29,
   "metadata": {},
   "outputs": [],
   "source": [
    "model.add(Dense(1))\n",
    "model.add(Activation('sigmoid'))\n",
    "          "
   ]
  },
  {
   "cell_type": "code",
   "execution_count": 30,
   "metadata": {},
   "outputs": [],
   "source": [
    "model.compile(loss='binary_crossentropy',\n",
    "             optimizer=\"adam\",\n",
    "             metrics=[\"accuracy\"])"
   ]
  },
  {
   "cell_type": "code",
   "execution_count": null,
   "metadata": {},
   "outputs": [],
   "source": [
    "#Training the model"
   ]
  },
  {
   "cell_type": "code",
   "execution_count": 31,
   "metadata": {},
   "outputs": [
    {
     "name": "stdout",
     "output_type": "stream",
     "text": [
      "Epoch 1/10\n",
      "14/14 [==============================] - 36s 3s/step - loss: 3.6924 - accuracy: 0.5757 - val_loss: 1.3011 - val_accuracy: 0.6529\n",
      "Epoch 2/10\n",
      "14/14 [==============================] - 21s 2s/step - loss: 0.7204 - accuracy: 0.8005 - val_loss: 0.2149 - val_accuracy: 0.9008\n",
      "Epoch 3/10\n",
      "14/14 [==============================] - 20s 1s/step - loss: 0.2804 - accuracy: 0.8716 - val_loss: 0.1845 - val_accuracy: 0.9421\n",
      "Epoch 4/10\n",
      "14/14 [==============================] - 21s 2s/step - loss: 0.2073 - accuracy: 0.9106 - val_loss: 0.1181 - val_accuracy: 0.9339\n",
      "Epoch 5/10\n",
      "14/14 [==============================] - 20s 1s/step - loss: 0.1779 - accuracy: 0.9243 - val_loss: 0.1084 - val_accuracy: 0.9421\n",
      "Epoch 6/10\n",
      "14/14 [==============================] - 20s 1s/step - loss: 0.1749 - accuracy: 0.9289 - val_loss: 0.1052 - val_accuracy: 0.9752\n",
      "Epoch 7/10\n",
      "14/14 [==============================] - 21s 2s/step - loss: 0.1592 - accuracy: 0.9266 - val_loss: 0.0981 - val_accuracy: 0.9587\n",
      "Epoch 8/10\n",
      "14/14 [==============================] - 22s 2s/step - loss: 0.1543 - accuracy: 0.9335 - val_loss: 0.0932 - val_accuracy: 0.9504\n",
      "Epoch 9/10\n",
      "14/14 [==============================] - 20s 1s/step - loss: 0.1496 - accuracy: 0.9358 - val_loss: 0.0883 - val_accuracy: 0.9669\n",
      "Epoch 10/10\n",
      "14/14 [==============================] - 21s 2s/step - loss: 0.1475 - accuracy: 0.9404 - val_loss: 0.0944 - val_accuracy: 0.9752\n"
     ]
    },
    {
     "data": {
      "text/plain": [
       "<keras.callbacks.History at 0x27081b01f70>"
      ]
     },
     "execution_count": 31,
     "metadata": {},
     "output_type": "execute_result"
    }
   ],
   "source": [
    "model.fit_generator(train_generator,epochs=10,validation_data=test_generator,validation_steps=4)"
   ]
  },
  {
   "cell_type": "code",
   "execution_count": 32,
   "metadata": {},
   "outputs": [],
   "source": [
    "model.save(\"forest1.h5\")"
   ]
  },
  {
   "cell_type": "code",
   "execution_count": 53,
   "metadata": {},
   "outputs": [],
   "source": [
    "from keras.models import load_model\n",
    "from keras.preprocessing import image\n",
    "import numpy as np \n",
    "import cv2\n"
   ]
  },
  {
   "cell_type": "code",
   "execution_count": 54,
   "metadata": {},
   "outputs": [],
   "source": [
    "model=load_model(\"forest1.h5\")"
   ]
  },
  {
   "cell_type": "code",
   "execution_count": 55,
   "metadata": {},
   "outputs": [],
   "source": [
    "img=image.load_img(r\"D:\\Desktop 2\\IBM Project\\Project development phase\\Sprint 1\\Data Collection\\test_set\\with fire\\19464620_401.jpg\")\n",
    "x=image.img_to_array(img)\n",
    "res = cv2.resize(x, dsize=(128, 128), interpolation=cv2.INTER_CUBIC)\n",
    "x=np.expand_dims(res,axis=0)"
   ]
  },
  {
   "cell_type": "code",
   "execution_count": 58,
   "metadata": {},
   "outputs": [],
   "source": [
    "pred=model.predict(x)"
   ]
  },
  {
   "cell_type": "code",
   "execution_count": 59,
   "metadata": {},
   "outputs": [
    {
     "data": {
      "text/plain": [
       "array([[1.]], dtype=float32)"
      ]
     },
     "execution_count": 59,
     "metadata": {},
     "output_type": "execute_result"
    }
   ],
   "source": [
    "pred"
   ]
  }
 ],
 "metadata": {
  "kernelspec": {
   "display_name": "Python 3 (ipykernel)",
   "language": "python",
   "name": "python3"
  },
  "language_info": {
   "codemirror_mode": {
    "name": "ipython",
    "version": 3
   },
   "file_extension": ".py",
   "mimetype": "text/x-python",
   "name": "python",
   "nbconvert_exporter": "python",
   "pygments_lexer": "ipython3",
   "version": "3.9.13"
  }
 },
 "nbformat": 4,
 "nbformat_minor": 4
}
